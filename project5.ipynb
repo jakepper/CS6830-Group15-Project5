{
 "cells": [
  {
   "cell_type": "markdown",
   "id": "b1f73817",
   "metadata": {},
   "source": [
    "# Project 5"
   ]
  },
  {
   "cell_type": "code",
   "execution_count": 1,
   "id": "888e44e8",
   "metadata": {},
   "outputs": [
    {
     "name": "stderr",
     "output_type": "stream",
     "text": [
      "[nltk_data] Downloading package wordnet to\n",
      "[nltk_data]     C:\\Users\\twjos\\AppData\\Roaming\\nltk_data...\n",
      "[nltk_data]   Package wordnet is already up-to-date!\n"
     ]
    }
   ],
   "source": [
    "import pandas as pd\n",
    "import numpy as np\n",
    "import seaborn as sns\n",
    "import matplotlib.pyplot as plt\n",
    "import string # contains punctuation to remove\n",
    "from cleantext import clean # contains emojis to remove\n",
    "import re # used for working with string data\n",
    "import nltk\n",
    "from nltk.corpus import stopwords\n",
    "from nltk.stem import WordNetLemmatizer\n",
    "nltk.download('wordnet') # Needed for lemmatization\n",
    "from sklearn.model_selection import train_test_split\n",
    "from sklearn.feature_extraction.text import CountVectorizer\n",
    "import operator"
   ]
  },
  {
   "cell_type": "markdown",
   "id": "0872fea0",
   "metadata": {},
   "source": [
    "The data for this project came from Kaggle. It contains The qualitative ratings and numerical ratings for books on the Goodreads website, as well as other variables (such as the number of votes and comments the rating text recieved). "
   ]
  },
  {
   "cell_type": "code",
   "execution_count": 2,
   "id": "309057ae",
   "metadata": {},
   "outputs": [],
   "source": [
    "# import data \n",
    "goodreads = pd.read_csv(\"data/goodreads_train.csv\")"
   ]
  },
  {
   "cell_type": "code",
   "execution_count": 3,
   "id": "70570d0a",
   "metadata": {},
   "outputs": [
    {
     "data": {
      "text/html": [
       "<div>\n",
       "<style scoped>\n",
       "    .dataframe tbody tr th:only-of-type {\n",
       "        vertical-align: middle;\n",
       "    }\n",
       "\n",
       "    .dataframe tbody tr th {\n",
       "        vertical-align: top;\n",
       "    }\n",
       "\n",
       "    .dataframe thead th {\n",
       "        text-align: right;\n",
       "    }\n",
       "</style>\n",
       "<table border=\"1\" class=\"dataframe\">\n",
       "  <thead>\n",
       "    <tr style=\"text-align: right;\">\n",
       "      <th></th>\n",
       "      <th>user_id</th>\n",
       "      <th>book_id</th>\n",
       "      <th>review_id</th>\n",
       "      <th>rating</th>\n",
       "      <th>review_text</th>\n",
       "      <th>date_added</th>\n",
       "      <th>date_updated</th>\n",
       "      <th>read_at</th>\n",
       "      <th>started_at</th>\n",
       "      <th>n_votes</th>\n",
       "      <th>n_comments</th>\n",
       "    </tr>\n",
       "  </thead>\n",
       "  <tbody>\n",
       "    <tr>\n",
       "      <th>0</th>\n",
       "      <td>8842281e1d1347389f2ab93d60773d4d</td>\n",
       "      <td>18245960</td>\n",
       "      <td>dfdbb7b0eb5a7e4c26d59a937e2e5feb</td>\n",
       "      <td>5</td>\n",
       "      <td>This is a special book. It started slow for ab...</td>\n",
       "      <td>Sun Jul 30 07:44:10 -0700 2017</td>\n",
       "      <td>Wed Aug 30 00:00:26 -0700 2017</td>\n",
       "      <td>Sat Aug 26 12:05:52 -0700 2017</td>\n",
       "      <td>Tue Aug 15 13:23:18 -0700 2017</td>\n",
       "      <td>28</td>\n",
       "      <td>1</td>\n",
       "    </tr>\n",
       "    <tr>\n",
       "      <th>1</th>\n",
       "      <td>8842281e1d1347389f2ab93d60773d4d</td>\n",
       "      <td>16981</td>\n",
       "      <td>a5d2c3628987712d0e05c4f90798eb67</td>\n",
       "      <td>3</td>\n",
       "      <td>Recommended by Don Katz. Avail for free in Dec...</td>\n",
       "      <td>Mon Dec 05 10:46:44 -0800 2016</td>\n",
       "      <td>Wed Mar 22 11:37:04 -0700 2017</td>\n",
       "      <td>NaN</td>\n",
       "      <td>NaN</td>\n",
       "      <td>1</td>\n",
       "      <td>0</td>\n",
       "    </tr>\n",
       "    <tr>\n",
       "      <th>2</th>\n",
       "      <td>8842281e1d1347389f2ab93d60773d4d</td>\n",
       "      <td>28684704</td>\n",
       "      <td>2ede853b14dc4583f96cf5d120af636f</td>\n",
       "      <td>3</td>\n",
       "      <td>A fun, fast paced science fiction thriller. I ...</td>\n",
       "      <td>Tue Nov 15 11:29:22 -0800 2016</td>\n",
       "      <td>Mon Mar 20 23:40:27 -0700 2017</td>\n",
       "      <td>Sat Mar 18 23:22:42 -0700 2017</td>\n",
       "      <td>Fri Mar 17 23:45:40 -0700 2017</td>\n",
       "      <td>22</td>\n",
       "      <td>0</td>\n",
       "    </tr>\n",
       "    <tr>\n",
       "      <th>3</th>\n",
       "      <td>8842281e1d1347389f2ab93d60773d4d</td>\n",
       "      <td>27161156</td>\n",
       "      <td>ced5675e55cd9d38a524743f5c40996e</td>\n",
       "      <td>0</td>\n",
       "      <td>Recommended reading to understand what is goin...</td>\n",
       "      <td>Wed Nov 09 17:37:04 -0800 2016</td>\n",
       "      <td>Wed Nov 09 17:38:20 -0800 2016</td>\n",
       "      <td>NaN</td>\n",
       "      <td>NaN</td>\n",
       "      <td>5</td>\n",
       "      <td>1</td>\n",
       "    </tr>\n",
       "    <tr>\n",
       "      <th>4</th>\n",
       "      <td>8842281e1d1347389f2ab93d60773d4d</td>\n",
       "      <td>25884323</td>\n",
       "      <td>332732725863131279a8e345b63ac33e</td>\n",
       "      <td>4</td>\n",
       "      <td>I really enjoyed this book, and there is a lot...</td>\n",
       "      <td>Mon Apr 25 09:31:23 -0700 2016</td>\n",
       "      <td>Mon Apr 25 09:31:23 -0700 2016</td>\n",
       "      <td>Sun Jun 26 00:00:00 -0700 2016</td>\n",
       "      <td>Sat May 28 00:00:00 -0700 2016</td>\n",
       "      <td>9</td>\n",
       "      <td>1</td>\n",
       "    </tr>\n",
       "  </tbody>\n",
       "</table>\n",
       "</div>"
      ],
      "text/plain": [
       "                            user_id   book_id  \\\n",
       "0  8842281e1d1347389f2ab93d60773d4d  18245960   \n",
       "1  8842281e1d1347389f2ab93d60773d4d     16981   \n",
       "2  8842281e1d1347389f2ab93d60773d4d  28684704   \n",
       "3  8842281e1d1347389f2ab93d60773d4d  27161156   \n",
       "4  8842281e1d1347389f2ab93d60773d4d  25884323   \n",
       "\n",
       "                          review_id  rating  \\\n",
       "0  dfdbb7b0eb5a7e4c26d59a937e2e5feb       5   \n",
       "1  a5d2c3628987712d0e05c4f90798eb67       3   \n",
       "2  2ede853b14dc4583f96cf5d120af636f       3   \n",
       "3  ced5675e55cd9d38a524743f5c40996e       0   \n",
       "4  332732725863131279a8e345b63ac33e       4   \n",
       "\n",
       "                                         review_text  \\\n",
       "0  This is a special book. It started slow for ab...   \n",
       "1  Recommended by Don Katz. Avail for free in Dec...   \n",
       "2  A fun, fast paced science fiction thriller. I ...   \n",
       "3  Recommended reading to understand what is goin...   \n",
       "4  I really enjoyed this book, and there is a lot...   \n",
       "\n",
       "                       date_added                    date_updated  \\\n",
       "0  Sun Jul 30 07:44:10 -0700 2017  Wed Aug 30 00:00:26 -0700 2017   \n",
       "1  Mon Dec 05 10:46:44 -0800 2016  Wed Mar 22 11:37:04 -0700 2017   \n",
       "2  Tue Nov 15 11:29:22 -0800 2016  Mon Mar 20 23:40:27 -0700 2017   \n",
       "3  Wed Nov 09 17:37:04 -0800 2016  Wed Nov 09 17:38:20 -0800 2016   \n",
       "4  Mon Apr 25 09:31:23 -0700 2016  Mon Apr 25 09:31:23 -0700 2016   \n",
       "\n",
       "                          read_at                      started_at  n_votes  \\\n",
       "0  Sat Aug 26 12:05:52 -0700 2017  Tue Aug 15 13:23:18 -0700 2017       28   \n",
       "1                             NaN                             NaN        1   \n",
       "2  Sat Mar 18 23:22:42 -0700 2017  Fri Mar 17 23:45:40 -0700 2017       22   \n",
       "3                             NaN                             NaN        5   \n",
       "4  Sun Jun 26 00:00:00 -0700 2016  Sat May 28 00:00:00 -0700 2016        9   \n",
       "\n",
       "   n_comments  \n",
       "0           1  \n",
       "1           0  \n",
       "2           0  \n",
       "3           1  \n",
       "4           1  "
      ]
     },
     "execution_count": 3,
     "metadata": {},
     "output_type": "execute_result"
    }
   ],
   "source": [
    "goodreads.head()"
   ]
  },
  {
   "cell_type": "markdown",
   "id": "99bfe592",
   "metadata": {},
   "source": [
    "### General Preprocessing"
   ]
  },
  {
   "cell_type": "code",
   "execution_count": 4,
   "id": "ef657abf",
   "metadata": {},
   "outputs": [
    {
     "name": "stdout",
     "output_type": "stream",
     "text": [
      "The dataset has 900000 samples.\n"
     ]
    }
   ],
   "source": [
    "# Look at how much data we have\n",
    "print(f\"The dataset has {len(goodreads)} samples.\")"
   ]
  },
  {
   "cell_type": "markdown",
   "id": "1a93d284",
   "metadata": {},
   "source": [
    "We really don't need that much data for the purpose of this project. We should cut it down. Let's look at other factors before deciding how much to cut."
   ]
  },
  {
   "cell_type": "code",
   "execution_count": 5,
   "id": "a582a181",
   "metadata": {},
   "outputs": [
    {
     "data": {
      "text/html": [
       "<div>\n",
       "<style scoped>\n",
       "    .dataframe tbody tr th:only-of-type {\n",
       "        vertical-align: middle;\n",
       "    }\n",
       "\n",
       "    .dataframe tbody tr th {\n",
       "        vertical-align: top;\n",
       "    }\n",
       "\n",
       "    .dataframe thead th {\n",
       "        text-align: right;\n",
       "    }\n",
       "</style>\n",
       "<table border=\"1\" class=\"dataframe\">\n",
       "  <thead>\n",
       "    <tr style=\"text-align: right;\">\n",
       "      <th></th>\n",
       "      <th>book_id</th>\n",
       "      <th>rating</th>\n",
       "      <th>n_votes</th>\n",
       "      <th>n_comments</th>\n",
       "    </tr>\n",
       "  </thead>\n",
       "  <tbody>\n",
       "    <tr>\n",
       "      <th>count</th>\n",
       "      <td>9.000000e+05</td>\n",
       "      <td>900000.000000</td>\n",
       "      <td>900000.000000</td>\n",
       "      <td>900000.000000</td>\n",
       "    </tr>\n",
       "    <tr>\n",
       "      <th>mean</th>\n",
       "      <td>1.344145e+07</td>\n",
       "      <td>3.689639</td>\n",
       "      <td>3.294381</td>\n",
       "      <td>1.016656</td>\n",
       "    </tr>\n",
       "    <tr>\n",
       "      <th>std</th>\n",
       "      <td>9.357863e+06</td>\n",
       "      <td>1.252583</td>\n",
       "      <td>17.873553</td>\n",
       "      <td>5.963821</td>\n",
       "    </tr>\n",
       "    <tr>\n",
       "      <th>min</th>\n",
       "      <td>1.000000e+00</td>\n",
       "      <td>0.000000</td>\n",
       "      <td>-3.000000</td>\n",
       "      <td>-1.000000</td>\n",
       "    </tr>\n",
       "    <tr>\n",
       "      <th>25%</th>\n",
       "      <td>6.340471e+06</td>\n",
       "      <td>3.000000</td>\n",
       "      <td>0.000000</td>\n",
       "      <td>0.000000</td>\n",
       "    </tr>\n",
       "    <tr>\n",
       "      <th>50%</th>\n",
       "      <td>1.344203e+07</td>\n",
       "      <td>4.000000</td>\n",
       "      <td>0.000000</td>\n",
       "      <td>0.000000</td>\n",
       "    </tr>\n",
       "    <tr>\n",
       "      <th>75%</th>\n",
       "      <td>2.057897e+07</td>\n",
       "      <td>5.000000</td>\n",
       "      <td>2.000000</td>\n",
       "      <td>0.000000</td>\n",
       "    </tr>\n",
       "    <tr>\n",
       "      <th>max</th>\n",
       "      <td>3.632868e+07</td>\n",
       "      <td>5.000000</td>\n",
       "      <td>3222.000000</td>\n",
       "      <td>1335.000000</td>\n",
       "    </tr>\n",
       "  </tbody>\n",
       "</table>\n",
       "</div>"
      ],
      "text/plain": [
       "            book_id         rating        n_votes     n_comments\n",
       "count  9.000000e+05  900000.000000  900000.000000  900000.000000\n",
       "mean   1.344145e+07       3.689639       3.294381       1.016656\n",
       "std    9.357863e+06       1.252583      17.873553       5.963821\n",
       "min    1.000000e+00       0.000000      -3.000000      -1.000000\n",
       "25%    6.340471e+06       3.000000       0.000000       0.000000\n",
       "50%    1.344203e+07       4.000000       0.000000       0.000000\n",
       "75%    2.057897e+07       5.000000       2.000000       0.000000\n",
       "max    3.632868e+07       5.000000    3222.000000    1335.000000"
      ]
     },
     "execution_count": 5,
     "metadata": {},
     "output_type": "execute_result"
    }
   ],
   "source": [
    "# Descriptive stats for the numerical variables\n",
    "goodreads.describe()"
   ]
  },
  {
   "cell_type": "markdown",
   "id": "c2fc7ba8",
   "metadata": {},
   "source": [
    "It really doesn't look like there are that many votes or comments, let's drop those and just use the text to make things easier. We also don't need the ids and the dates. "
   ]
  },
  {
   "cell_type": "code",
   "execution_count": 6,
   "id": "99330d13",
   "metadata": {},
   "outputs": [],
   "source": [
    "goodreads = goodreads[[\"review_text\", \"rating\"]]"
   ]
  },
  {
   "cell_type": "code",
   "execution_count": 7,
   "id": "7e4bf8b4",
   "metadata": {
    "scrolled": false
   },
   "outputs": [
    {
     "data": {
      "text/plain": [
       "<AxesSubplot: xlabel='rating', ylabel='count'>"
      ]
     },
     "execution_count": 7,
     "metadata": {},
     "output_type": "execute_result"
    },
    {
     "data": {
      "image/png": "[encoded data removed]",
      "text/plain": [
       "<Figure size 640x480 with 1 Axes>"
      ]
     },
     "metadata": {},
     "output_type": "display_data"
    }
   ],
   "source": [
    "# It looks like the ratings are really skewed\n",
    "sns.countplot(x = goodreads.rating, palette = \"coolwarm\")"
   ]
  },
  {
   "cell_type": "markdown",
   "id": "0e2a8668",
   "metadata": {},
   "source": [
    "We want to recode the ratings to a binary variable. Given the skew, let's do the following:\n",
    "- **1 - 3 = 0 (not great)**  \n",
    "- **4 - 5 = 1 (great)**"
   ]
  },
  {
   "cell_type": "code",
   "execution_count": 8,
   "id": "85c86dfc",
   "metadata": {},
   "outputs": [],
   "source": [
    "# Recode rating\n",
    "not_great = [1, 2, 3]\n",
    "great = [4, 5]\n",
    "\n",
    "conditions = [goodreads.rating.isin(not_great), goodreads.rating.isin(great)]\n",
    "values = [0, 1]\n",
    "\n",
    "\n",
    "goodreads[\"rating\"]  = np.select(conditions, values)"
   ]
  },
  {
   "cell_type": "code",
   "execution_count": 9,
   "id": "485c4439",
   "metadata": {},
   "outputs": [
    {
     "data": {
      "text/plain": [
       "<AxesSubplot: xlabel='rating', ylabel='count'>"
      ]
     },
     "execution_count": 9,
     "metadata": {},
     "output_type": "execute_result"
    },
    {
     "data": {
      "image/png": "[encoded data removed]",
      "text/plain": [
       "<Figure size 640x480 with 1 Axes>"
      ]
     },
     "metadata": {},
     "output_type": "display_data"
    }
   ],
   "source": [
    "sns.countplot(x = goodreads.rating, palette = \"coolwarm\")"
   ]
  },
  {
   "cell_type": "markdown",
   "id": "1f3ad522",
   "metadata": {},
   "source": [
    "This is still a lot of data. The text preprocessing is going to take forever. Let's take a sample of 5,000 of each rating (so 10,000 total)."
   ]
  },
  {
   "cell_type": "code",
   "execution_count": 10,
   "id": "0ccd6e1e",
   "metadata": {},
   "outputs": [],
   "source": [
    "goodreads = goodreads.groupby(\"rating\").sample(5000, random_state = 10).reset_index(drop = True)"
   ]
  },
  {
   "cell_type": "code",
   "execution_count": 11,
   "id": "7f596119",
   "metadata": {},
   "outputs": [
    {
     "data": {
      "text/plain": [
       "0    5000\n",
       "1    5000\n",
       "Name: rating, dtype: int64"
      ]
     },
     "execution_count": 11,
     "metadata": {},
     "output_type": "execute_result"
    }
   ],
   "source": [
    "goodreads.rating.value_counts()"
   ]
  },
  {
   "cell_type": "markdown",
   "id": "f93a960d",
   "metadata": {},
   "source": [
    "### Text Cleaning"
   ]
  },
  {
   "cell_type": "code",
   "execution_count": 12,
   "id": "46a08c19",
   "metadata": {},
   "outputs": [],
   "source": [
    "# Create a function to clean the review text\n",
    "lemmatizer = WordNetLemmatizer()\n",
    "stop_words = set(stopwords.words('english'))\n",
    "\n",
    "def clean_text(text):\n",
    "    cleaned_text = text.lower() # Make everything lowercase\n",
    "    cleaned_text = \"\".join(char for char in cleaned_text if char not in string.punctuation) # Remove punctuation\n",
    "    cleaned_text = re.sub(r\"http\\S+\", \"\", cleaned_text) # remove URLs from the review\n",
    "    cleaned_text = re.sub(\"\\n\", \"\", cleaned_text) # I noticed multiple reviews had  the new line symbol (see below cell), so remove those\n",
    "    cleaned_text = re.sub('  ', ' ', cleaned_text) # remove extra spaces (if any)\n",
    "    cleaned_text = cleaned_text.split(' ') # Temporarily tokenize for stopword removal and lemmatization\n",
    "    \n",
    "    # The following line of code does a couple things:\n",
    "    ### 1: Removes the word if it is a stopword (e.g., common word that will not be useful, like \"the\")\n",
    "    ### 2: Lemmazizes the word (e.g., convert to base form so similar words are not counted as separate words)\n",
    "    cleaned_text = [lemmatizer.lemmatize(word) for word in cleaned_text if word not in stop_words]\n",
    "    cleaned_text = ' '.join(cleaned_text) # get back to a string\n",
    "       \n",
    "    return cleaned_text"
   ]
  },
  {
   "cell_type": "code",
   "execution_count": 13,
   "id": "4e398a83",
   "metadata": {},
   "outputs": [
    {
     "data": {
      "text/plain": [
       "0      didnt like book much hoped still pretty awesome\n",
       "1    untouched lot creepy exactly alone waiting sou...\n",
       "2    16th birthday alice family attend little siste...\n",
       "3    read passage grade 11 english class wanting re...\n",
       "4    ive wanted say already said review yay mine su...\n",
       "Name: review_text, dtype: object"
      ]
     },
     "execution_count": 13,
     "metadata": {},
     "output_type": "execute_result"
    }
   ],
   "source": [
    "# Clean the text in each review\n",
    "goodreads.review_text = goodreads.review_text.apply(lambda review: clean_text(review))\n",
    "# Check first 5 reviews\n",
    "goodreads.review_text.head()"
   ]
  },
  {
   "cell_type": "markdown",
   "id": "128b91c1",
   "metadata": {},
   "source": [
    "### Train/Test Split and Bag of Words\n",
    "Split the data, create a bag of words from the training data."
   ]
  },
  {
   "cell_type": "code",
   "execution_count": 14,
   "id": "8dbbb79d",
   "metadata": {},
   "outputs": [],
   "source": [
    "train, test = train_test_split(goodreads, random_state = 10)"
   ]
  },
  {
   "cell_type": "code",
   "execution_count": 15,
   "id": "93fe8ecf",
   "metadata": {},
   "outputs": [],
   "source": [
    "# Separate predictors and outcomes\n",
    "X_train = train.review_text.to_numpy()\n",
    "y_train = train.rating.to_numpy()\n",
    "\n",
    "X_test = test.review_text.to_numpy()\n",
    "y_test = test.review_text.to_numpy()"
   ]
  },
  {
   "cell_type": "code",
   "execution_count": 16,
   "id": "cd1793f8",
   "metadata": {
    "scrolled": true
   },
   "outputs": [
    {
     "data": {
      "text/plain": [
       "(7500, 5000)"
      ]
     },
     "execution_count": 16,
     "metadata": {},
     "output_type": "execute_result"
    }
   ],
   "source": [
    "CV = CountVectorizer(stop_words = None, max_features = 5000) # Only get the top 5000 words\n",
    "CV.fit(X_train)\n",
    "X_train = CV.transform(X_train)\n",
    "# The training data is now a Bag of Words (a matrix of word counts)\n",
    "X_train.shape"
   ]
  },
  {
   "cell_type": "code",
   "execution_count": 17,
   "id": "7bb3dcca",
   "metadata": {},
   "outputs": [
    {
     "data": {
      "text/plain": [
       "[('book', 16662),\n",
       " ('like', 7014),\n",
       " ('one', 6298),\n",
       " ('read', 6254),\n",
       " ('character', 6238),\n",
       " ('story', 6225),\n",
       " ('really', 5783),\n",
       " ('love', 4555),\n",
       " ('time', 3918),\n",
       " ('get', 3648)]"
      ]
     },
     "execution_count": 17,
     "metadata": {},
     "output_type": "execute_result"
    }
   ],
   "source": [
    "# Get the top ten most frequent words in the vocabulary\n",
    "vocabulary = CV.vocabulary_.items() # Get all of the words in the vocabulary\n",
    "totals = X_train.sum(axis = 0) # count words\n",
    "frequencies = [(word, totals[0, index]) for word, index in vocabulary] # Get the frequencies for all the words\n",
    "frequencies = sorted(frequencies, key = lambda x: x[1], reverse  = True) # sort words based on the frequencies\n",
    "frequencies[ : 10]"
   ]
  },
  {
   "cell_type": "markdown",
   "id": "eaa76ccb",
   "metadata": {},
   "source": [
    "Maybe we could add book to the stopwords. I doubt it will tell us much."
   ]
  },
  {
   "cell_type": "code",
   "execution_count": 18,
   "id": "2c645d89",
   "metadata": {},
   "outputs": [],
   "source": [
    "# We use the vocabulary from the training data to transform the tokens in the test set. \n",
    "X_test = CV.transform(X_test)"
   ]
  },
  {
   "cell_type": "markdown",
   "id": "9d196e73",
   "metadata": {},
   "source": [
    "### Model fit and accuracy"
   ]
  },
  {
   "cell_type": "markdown",
   "id": "ab6c2f44",
   "metadata": {},
   "source": [
    "This is pretty much the same process as any other sklearn model. "
   ]
  },
  {
   "cell_type": "code",
   "execution_count": 19,
   "id": "c3a80563",
   "metadata": {},
   "outputs": [],
   "source": [
    "from sklearn.naive_bayes import MultinomialNB"
   ]
  }
 ],
 "metadata": {
  "kernelspec": {
   "display_name": "Python 3 (ipykernel)",
   "language": "python",
   "name": "python3"
  },
  "language_info": {
   "codemirror_mode": {
    "name": "ipython",
    "version": 3
   },
   "file_extension": ".py",
   "mimetype": "text/x-python",
   "name": "python",
   "nbconvert_exporter": "python",
   "pygments_lexer": "ipython3",
   "version": "3.11.1"
  }
 },
 "nbformat": 4,
 "nbformat_minor": 5
}
